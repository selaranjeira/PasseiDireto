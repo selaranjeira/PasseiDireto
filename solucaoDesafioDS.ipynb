{
 "cells": [
  {
   "cell_type": "markdown",
   "metadata": {},
   "source": [
    "### Desafio Passei Direto \n",
    "### Entrega 12/12/19\n",
    "### Autor: Sergio Laranjeira"
   ]
  },
  {
   "cell_type": "code",
   "execution_count": 1,
   "metadata": {},
   "outputs": [],
   "source": [
    "# Imports\n",
    "import json\n",
    "import numpy as np\n",
    "import pandas as pd\n",
    "import matplotlib.pyplot as plt\n",
    "from datetime import datetime"
   ]
  },
  {
   "cell_type": "code",
   "execution_count": 2,
   "metadata": {},
   "outputs": [],
   "source": [
    "# Arquivos\n",
    "filename='/home/selaranjeira/Desktop/passeiDireto/dados/Datasets_Passei_Direto/baseA/premium_students.json'\n",
    "## Arquivos questoes 2, 3, 4, 5, 6 e 7\n",
    "answers = '/home/selaranjeira/Desktop/passeiDireto/dados/Datasets_Passei_Direto/baseB/answers.json'\n",
    "evaluations = '/home/selaranjeira/Desktop/passeiDireto/dados/Datasets_Passei_Direto/baseB/evaluations.json/evaluations.json'\n",
    "views = '/home/selaranjeira/Desktop/passeiDireto/dados/Datasets_Passei_Direto/baseB/fileViews.json'\n",
    "p_canc = '/home/selaranjeira/Desktop/passeiDireto/dados/Datasets_Passei_Direto/baseB/premium_cancellations.json'\n",
    "p_paym = '/home/selaranjeira/Desktop/passeiDireto/dados/Datasets_Passei_Direto/baseB/premium_payments.json'\n",
    "quest = '/home/selaranjeira/Desktop/passeiDireto/dados/Datasets_Passei_Direto/baseB/questions.json'\n",
    "sess = '/home/selaranjeira/Desktop/passeiDireto/dados/Datasets_Passei_Direto/baseB/sessions.json'\n",
    "stu = '/home/selaranjeira/Desktop/passeiDireto/dados/Datasets_Passei_Direto/baseB/students.json'\n",
    "stu_p_view = '/home/selaranjeira/Desktop/passeiDireto/dados/Datasets_Passei_Direto/baseB/studyPlanViews.json'\n",
    "subjects = '/home/selaranjeira/Desktop/passeiDireto/dados/Datasets_Passei_Direto/baseB/subjects.json'\n",
    "textBookSolutionViews = '/home/selaranjeira/Desktop/passeiDireto/dados/Datasets_Passei_Direto/baseB/textBookSolutionViews.json'"
   ]
  },
  {
   "cell_type": "markdown",
   "metadata": {},
   "source": [
    "## PERGUNTA 1)"
   ]
  },
  {
   "cell_type": "markdown",
   "metadata": {},
   "source": [
    "* Dentre os usuários cadastrados em Nov/2017 que assinaram o Plano Premium, qual a probab do usuário virar Premium após o cadastro em ranges de dias? \n",
    "\n",
    "                     ** A escolhados ranges deve ser feita por você, tendo em vista os insights que podemos tirar para o negócio"
   ]
  },
  {
   "cell_type": "code",
   "execution_count": 3,
   "metadata": {},
   "outputs": [],
   "source": [
    "# Questao 1 envolve a tabela filename:\n",
    "df_premium = pd.read_json(filename)"
   ]
  },
  {
   "cell_type": "code",
   "execution_count": 4,
   "metadata": {},
   "outputs": [],
   "source": [
    "#df_premium.dtypes\n",
    "# <class 'pandas.core.frame.DataFrame'>\n",
    "# RangeIndex: 6260 entries, 0 to 6259\n",
    "# Data columns (total 3 columns):\n",
    "# RegisteredDate      6260 non-null object\n",
    "# StudentId           6260 non-null int64\n",
    "# SubscriptionDate    6260 non-null object\n",
    "# dtypes: int64(1), object(2)\n",
    "# memory usage: 146.8+ KB\n",
    "\n",
    "# Valores missing?\n",
    "# df_premium.isnull().values.any()\n",
    "# False"
   ]
  },
  {
   "cell_type": "code",
   "execution_count": 5,
   "metadata": {},
   "outputs": [],
   "source": [
    "#Tratando os dados:\n",
    "df_premium['RegisteredDate_new'] = pd.to_datetime(df_premium['RegisteredDate'])\n",
    "df_premium['SubscriptionDate_new'] = pd.to_datetime(df_premium['SubscriptionDate'])\n",
    "df_premium = df_premium.drop(columns=['RegisteredDate', 'SubscriptionDate'], axis=1)\n",
    "df_premium['diff'] = df_premium['SubscriptionDate_new'] - df_premium['RegisteredDate_new'] #subs pos cadastro. \n",
    "# lapso temporal entre registro e posterior subscricao."
   ]
  },
  {
   "cell_type": "code",
   "execution_count": 6,
   "metadata": {},
   "outputs": [
    {
     "data": {
      "text/html": [
       "<div>\n",
       "<style scoped>\n",
       "    .dataframe tbody tr th:only-of-type {\n",
       "        vertical-align: middle;\n",
       "    }\n",
       "\n",
       "    .dataframe tbody tr th {\n",
       "        vertical-align: top;\n",
       "    }\n",
       "\n",
       "    .dataframe thead th {\n",
       "        text-align: right;\n",
       "    }\n",
       "</style>\n",
       "<table border=\"1\" class=\"dataframe\">\n",
       "  <thead>\n",
       "    <tr style=\"text-align: right;\">\n",
       "      <th></th>\n",
       "      <th>StudentId</th>\n",
       "      <th>RegisteredDate_new</th>\n",
       "      <th>SubscriptionDate_new</th>\n",
       "      <th>diff</th>\n",
       "    </tr>\n",
       "  </thead>\n",
       "  <tbody>\n",
       "    <tr>\n",
       "      <th>0</th>\n",
       "      <td>98723802</td>\n",
       "      <td>2017-11-01 00:06:09.988381</td>\n",
       "      <td>2017-11-01 01:20:11.000000</td>\n",
       "      <td>0 days 01:14:01.011619</td>\n",
       "    </tr>\n",
       "    <tr>\n",
       "      <th>1</th>\n",
       "      <td>86905029</td>\n",
       "      <td>2017-11-01 00:19:31.215160</td>\n",
       "      <td>2017-11-17 21:58:57.163663</td>\n",
       "      <td>16 days 21:39:25.948503</td>\n",
       "    </tr>\n",
       "    <tr>\n",
       "      <th>2</th>\n",
       "      <td>40935842</td>\n",
       "      <td>2017-11-01 00:23:43.138459</td>\n",
       "      <td>2017-11-01 01:26:17.114303</td>\n",
       "      <td>0 days 01:02:33.975844</td>\n",
       "    </tr>\n",
       "  </tbody>\n",
       "</table>\n",
       "</div>"
      ],
      "text/plain": [
       "   StudentId         RegisteredDate_new       SubscriptionDate_new  \\\n",
       "0   98723802 2017-11-01 00:06:09.988381 2017-11-01 01:20:11.000000   \n",
       "1   86905029 2017-11-01 00:19:31.215160 2017-11-17 21:58:57.163663   \n",
       "2   40935842 2017-11-01 00:23:43.138459 2017-11-01 01:26:17.114303   \n",
       "\n",
       "                     diff  \n",
       "0  0 days 01:14:01.011619  \n",
       "1 16 days 21:39:25.948503  \n",
       "2  0 days 01:02:33.975844  "
      ]
     },
     "execution_count": 6,
     "metadata": {},
     "output_type": "execute_result"
    }
   ],
   "source": [
    "df_premium.head(3)"
   ]
  },
  {
   "cell_type": "code",
   "execution_count": 7,
   "metadata": {},
   "outputs": [],
   "source": [
    "#any(df_premium['SubscriptionDate_new'].duplicated()) \n",
    "#True: pessoas dif estao subscr na mesma hora."
   ]
  },
  {
   "cell_type": "code",
   "execution_count": 8,
   "metadata": {},
   "outputs": [],
   "source": [
    "#df_premium[df_premium.duplicated(keep=False)]\n",
    "# sem dados duplicados."
   ]
  },
  {
   "cell_type": "markdown",
   "metadata": {},
   "source": [
    "obs: registros duplicados em RegisteredDate_new e SubscriptionDate_new mas com estudantes unicos. - ok"
   ]
  },
  {
   "cell_type": "code",
   "execution_count": 9,
   "metadata": {},
   "outputs": [
    {
     "name": "stdout",
     "output_type": "stream",
     "text": [
      "0 days 00:01:00.507848 216 days 20:22:54.111285\n",
      "216 days 20:21:53.603437\n"
     ]
    }
   ],
   "source": [
    "print(df_premium['diff'].min(), df_premium['diff'].max())\n",
    "print(df_premium['diff'].max() - df_premium['diff'].min())\n",
    "# para esse grupo de pessoas, o range max na dist (entre registro e posterior subscricao) foi de 216 dias (aprox 7 meses)"
   ]
  },
  {
   "cell_type": "code",
   "execution_count": 10,
   "metadata": {},
   "outputs": [],
   "source": [
    "#df_premium.tail()"
   ]
  },
  {
   "cell_type": "code",
   "execution_count": 11,
   "metadata": {},
   "outputs": [],
   "source": [
    "#df_premium['SubscriptionDate_new'].min(), df_premium['SubscriptionDate_new'].max()"
   ]
  },
  {
   "cell_type": "code",
   "execution_count": 12,
   "metadata": {},
   "outputs": [],
   "source": [
    "#df_premium['RegisteredDate_new'].min(), df_premium['RegisteredDate_new'].max()"
   ]
  },
  {
   "cell_type": "markdown",
   "metadata": {},
   "source": [
    "Para responder a primeira questao queremos ver a distribuicao da coluna diff. Propomos a geracao do histograma (coluna que calcula o valor do tempo entre o registro e a subscricao). Em seguida verificar suas estatisticas basicas para extrair informacao. Sendo assim,"
   ]
  },
  {
   "cell_type": "code",
   "execution_count": 13,
   "metadata": {},
   "outputs": [
    {
     "name": "stdout",
     "output_type": "stream",
     "text": [
      "media_dias =  53.89041666666666\n",
      "desvio =  1843.85\n"
     ]
    },
    {
     "data": {
      "text/plain": [
       "(None, None)"
      ]
     },
     "execution_count": 13,
     "metadata": {},
     "output_type": "execute_result"
    }
   ],
   "source": [
    "media = round(df_premium['diff'].astype('timedelta64[h]').mean(), 2)\n",
    "desvio = round(df_premium['diff'].astype('timedelta64[h]').std(), 2)\n",
    "print('media_dias = ', media/24), print('desvio = ', desvio)"
   ]
  },
  {
   "cell_type": "markdown",
   "metadata": {},
   "source": [
    "Para esse conjunto de dados, na media, em 54 dias pos registro, tem-se a subscricao "
   ]
  },
  {
   "cell_type": "code",
   "execution_count": 14,
   "metadata": {},
   "outputs": [
    {
     "name": "stdout",
     "output_type": "stream",
     "text": [
      "total de subscricoes por intervalo:  [4112  157    7   30   86  219  307  424  654  264]\n",
      "intervalo em horas: [   0.   520.4 1040.8 1561.2 2081.6 2602.  3122.4 3642.8 4163.2 4683.6\n",
      " 5204. ]\n",
      "intervalo em dias: [  0.          21.68333333  43.36666667  65.05        86.73333333\n",
      " 108.41666667 130.1        151.78333333 173.46666667 195.15\n",
      " 216.83333333]\n"
     ]
    }
   ],
   "source": [
    "# variaveis hist (array de frequencias) e bin_edges (intervalos medidos em horas) para analise.\n",
    "hist,bin_edges = np.histogram(df_premium['diff'].astype('timedelta64[h]'))\n",
    "\n",
    "print('total de subscricoes por intervalo: ', (hist))\n",
    "print('intervalo em horas:', (bin_edges))\n",
    "print('intervalo em dias:', (bin_edges/24))"
   ]
  },
  {
   "cell_type": "markdown",
   "metadata": {},
   "source": [
    "### A figura abaixo ilustra melhor os intervalos (medido em horas) e sua respectiva frequencia:"
   ]
  },
  {
   "cell_type": "code",
   "execution_count": 15,
   "metadata": {},
   "outputs": [
    {
     "data": {
      "image/png": "[encoded data removed]",
      "text/plain": [
       "<Figure size 288x216 with 1 Axes>"
      ]
     },
     "metadata": {},
     "output_type": "display_data"
    }
   ],
   "source": [
    "plt.figure(figsize=[4,3])\n",
    "\n",
    "plt.bar(bin_edges[:-1], hist, width = 400, color='#0504aa',alpha=0.7)\n",
    "plt.xlim(min(bin_edges), max(bin_edges))\n",
    "plt.grid(axis='y', alpha=0.75)\n",
    "plt.xlabel('Intervalos',fontsize=15)\n",
    "plt.ylabel('Quantidade',fontsize=15)\n",
    "plt.xticks(fontsize=15)\n",
    "plt.yticks(fontsize=15)\n",
    "plt.title('Distribucao do lapso temporal em horas',fontsize=15)\n",
    "#plt.savefig('hourly.png')\n",
    "plt.show()"
   ]
  },
  {
   "cell_type": "markdown",
   "metadata": {},
   "source": [
    "### Observamos que, embora os dados se encontrem espalhados (alto desvio), podemos notar que ha tendencia formada em dois grupos distintos. \n",
    "* No intervalo 0-520hr (dentro de 21 dias pos registro), a frequencia mais alta (4112 subscricoes) foi observada. Isto representa a fatia de 66% dos estudantes (4112/6260). \n",
    "* Alternativamente, no intervalo 4163.2-4683.6hr (apos aproximadamente 6 meses) encontra-se o segundo maior pico com 654 subscricoes, representando a fatia de aprox 10% dos estudantes, o que responde a primeira questao."
   ]
  },
  {
   "cell_type": "markdown",
   "metadata": {},
   "source": [
    "## PERGUNTA 2)\n",
    "\n",
    "* fazer uma análise mais completa dos nossos usuários e suas ações no Passei Direto. Será usada a BASE B:"
   ]
  },
  {
   "cell_type": "markdown",
   "metadata": {},
   "source": [
    "### Comecamos pela tabela Students:\n",
    "* queremos o perfil de cada estudante para conhecer melhor o usuario"
   ]
  },
  {
   "cell_type": "code",
   "execution_count": 16,
   "metadata": {},
   "outputs": [],
   "source": [
    "df_stu = pd.read_json(stu)"
   ]
  },
  {
   "cell_type": "code",
   "execution_count": 17,
   "metadata": {},
   "outputs": [
    {
     "data": {
      "text/html": [
       "<div>\n",
       "<style scoped>\n",
       "    .dataframe tbody tr th:only-of-type {\n",
       "        vertical-align: middle;\n",
       "    }\n",
       "\n",
       "    .dataframe tbody tr th {\n",
       "        vertical-align: top;\n",
       "    }\n",
       "\n",
       "    .dataframe thead th {\n",
       "        text-align: right;\n",
       "    }\n",
       "</style>\n",
       "<table border=\"1\" class=\"dataframe\">\n",
       "  <thead>\n",
       "    <tr style=\"text-align: right;\">\n",
       "      <th></th>\n",
       "      <th>City</th>\n",
       "      <th>CourseName</th>\n",
       "      <th>Id</th>\n",
       "      <th>RegisteredDate</th>\n",
       "      <th>SignupSource</th>\n",
       "      <th>State</th>\n",
       "      <th>StudentClient</th>\n",
       "      <th>UniversityName</th>\n",
       "    </tr>\n",
       "  </thead>\n",
       "  <tbody>\n",
       "    <tr>\n",
       "      <th>0</th>\n",
       "      <td>NaN</td>\n",
       "      <td>Administração</td>\n",
       "      <td>12970655</td>\n",
       "      <td>2012-05-29 15:22:27.490000</td>\n",
       "      <td>Email</td>\n",
       "      <td>Rio de Janeiro</td>\n",
       "      <td>NaN</td>\n",
       "      <td>PUC-RIO</td>\n",
       "    </tr>\n",
       "    <tr>\n",
       "      <th>1</th>\n",
       "      <td>Rio de Janeiro</td>\n",
       "      <td>Direito do Trabalho e Segurança Social</td>\n",
       "      <td>59873654</td>\n",
       "      <td>2012-09-03 20:32:04.853000</td>\n",
       "      <td>Facebook</td>\n",
       "      <td>Rio de Janeiro</td>\n",
       "      <td>NaN</td>\n",
       "      <td>UFF</td>\n",
       "    </tr>\n",
       "    <tr>\n",
       "      <th>2</th>\n",
       "      <td>NaN</td>\n",
       "      <td>Enfermagem</td>\n",
       "      <td>3664695</td>\n",
       "      <td>2012-09-10 20:26:30.253000</td>\n",
       "      <td>Facebook</td>\n",
       "      <td>Distrito Federal</td>\n",
       "      <td>NaN</td>\n",
       "      <td>UNB</td>\n",
       "    </tr>\n",
       "  </tbody>\n",
       "</table>\n",
       "</div>"
      ],
      "text/plain": [
       "             City                              CourseName        Id  \\\n",
       "0             NaN                           Administração  12970655   \n",
       "1  Rio de Janeiro  Direito do Trabalho e Segurança Social  59873654   \n",
       "2             NaN                              Enfermagem   3664695   \n",
       "\n",
       "               RegisteredDate SignupSource             State StudentClient  \\\n",
       "0  2012-05-29 15:22:27.490000        Email    Rio de Janeiro           NaN   \n",
       "1  2012-09-03 20:32:04.853000     Facebook    Rio de Janeiro           NaN   \n",
       "2  2012-09-10 20:26:30.253000     Facebook  Distrito Federal           NaN   \n",
       "\n",
       "  UniversityName  \n",
       "0        PUC-RIO  \n",
       "1            UFF  \n",
       "2            UNB  "
      ]
     },
     "execution_count": 17,
     "metadata": {},
     "output_type": "execute_result"
    }
   ],
   "source": [
    "df_stu.head(3)"
   ]
  },
  {
   "cell_type": "code",
   "execution_count": 18,
   "metadata": {},
   "outputs": [
    {
     "data": {
      "text/plain": [
       "Facebook    30151\n",
       "Google      19555\n",
       "Email       10294\n",
       "Name: SignupSource, dtype: int64"
      ]
     },
     "execution_count": 18,
     "metadata": {},
     "output_type": "execute_result"
    }
   ],
   "source": [
    "#origem do usuario (primordialmente oriundo do Facebook)\n",
    "df_stu.SignupSource.value_counts()"
   ]
  },
  {
   "cell_type": "code",
   "execution_count": 19,
   "metadata": {},
   "outputs": [
    {
     "data": {
      "text/plain": [
       "Direito                               9862\n",
       "Administração                         4099\n",
       "Engenharia Civil                      3585\n",
       "Contabilidade / Ciências Contábeis    2744\n",
       "Pedagogia                             2627\n",
       "Psicologia                            2155\n",
       "Enfermagem                            2054\n",
       "Medicina                              1656\n",
       "Fisioterapia                          1464\n",
       "Engenharia Mecânica                   1451\n",
       "Nutrição                              1297\n",
       "Farmácia / Ciências Farmacêuticas     1142\n",
       "Educação Física                       1076\n",
       "Engenharia de Produção                1053\n",
       "Odontologia                            985\n",
       "Engenharia Elétrica                    957\n",
       "Veterinária / Medicina Veterinária     890\n",
       "Biologia / Ciências Biológicas         753\n",
       "Arquitetura e Urbanismo                724\n",
       "Gestão de Recursos Humanos             645\n",
       "Name: CourseName, dtype: int64"
      ]
     },
     "execution_count": 19,
     "metadata": {},
     "output_type": "execute_result"
    }
   ],
   "source": [
    "#Top 20 cursos:\n",
    "df_stu.CourseName.value_counts()[:20]"
   ]
  },
  {
   "cell_type": "code",
   "execution_count": 20,
   "metadata": {},
   "outputs": [],
   "source": [
    "# plt.figure(figsize=(8,4))\n",
    "# df_stu['CourseName'].value_counts()[:20].plot(kind='pie')\n",
    "# plt.show()"
   ]
  },
  {
   "cell_type": "code",
   "execution_count": 21,
   "metadata": {},
   "outputs": [
    {
     "name": "stdout",
     "output_type": "stream",
     "text": [
      "Rio de Janeiro       5201\n",
      "São Paulo            3873\n",
      "Minas Gerais         2363\n",
      "Paraná               1395\n",
      "Bahia                1314\n",
      "Ceara                1194\n",
      "Rio Grande do Sul    1110\n",
      "Pernambuco            896\n",
      "Santa Catarina        853\n",
      "Goias                 728\n",
      "Pará                  561\n",
      "Espirito Santo        560\n",
      "Name: State, dtype: int64\n"
     ]
    }
   ],
   "source": [
    "# Estado de atuacao com mais de 500 usuarios:\n",
    "print(df_stu.State.value_counts()[:12])\n",
    "# plt.figure(figsize=(8,4))\n",
    "# df_stu['State'].value_counts()[:12].plot(kind='pie')\n",
    "# plt.show()"
   ]
  },
  {
   "cell_type": "code",
   "execution_count": 22,
   "metadata": {},
   "outputs": [
    {
     "data": {
      "text/plain": [
       "ESTÁCIO                 8919\n",
       "UNIP                    4392\n",
       "UNOPAR                  1784\n",
       "UNINTER                 1780\n",
       "ESTÁCIO EAD             1446\n",
       "UNIDERP - ANHANGUERA     671\n",
       "Anhanguera               660\n",
       "USP-SP                   601\n",
       "PITÁGORAS                556\n",
       "UFRJ                     530\n",
       "Name: UniversityName, dtype: int64"
      ]
     },
     "execution_count": 22,
     "metadata": {},
     "output_type": "execute_result"
    }
   ],
   "source": [
    "# Top 10 Universidades:\n",
    "df_stu.UniversityName.value_counts()[:10]\n",
    "# plt.figure(figsize=(8,4))\n",
    "# df_stu['UniversityName'].value_counts()[:10].plot(kind='pie')\n",
    "# plt.show()"
   ]
  },
  {
   "cell_type": "markdown",
   "metadata": {},
   "source": [
    "Usando a tabela Subjects"
   ]
  },
  {
   "cell_type": "code",
   "execution_count": 23,
   "metadata": {},
   "outputs": [],
   "source": [
    "df_subjects = pd.read_json(subjects)"
   ]
  },
  {
   "cell_type": "code",
   "execution_count": 24,
   "metadata": {},
   "outputs": [
    {
     "data": {
      "text/html": [
       "<div>\n",
       "<style scoped>\n",
       "    .dataframe tbody tr th:only-of-type {\n",
       "        vertical-align: middle;\n",
       "    }\n",
       "\n",
       "    .dataframe tbody tr th {\n",
       "        vertical-align: top;\n",
       "    }\n",
       "\n",
       "    .dataframe thead th {\n",
       "        text-align: right;\n",
       "    }\n",
       "</style>\n",
       "<table border=\"1\" class=\"dataframe\">\n",
       "  <thead>\n",
       "    <tr style=\"text-align: right;\">\n",
       "      <th></th>\n",
       "      <th>FollowDate</th>\n",
       "      <th>StudentId</th>\n",
       "      <th>SubjectName</th>\n",
       "    </tr>\n",
       "  </thead>\n",
       "  <tbody>\n",
       "    <tr>\n",
       "      <th>0</th>\n",
       "      <td>2015-09-12 16:00:11.000000</td>\n",
       "      <td>12970655</td>\n",
       "      <td>Disciplina Integradora II</td>\n",
       "    </tr>\n",
       "    <tr>\n",
       "      <th>1</th>\n",
       "      <td>2015-09-12 16:00:11.000000</td>\n",
       "      <td>12970655</td>\n",
       "      <td>Pesquisa Operacional</td>\n",
       "    </tr>\n",
       "    <tr>\n",
       "      <th>2</th>\n",
       "      <td>2016-06-07 17:07:35.000000</td>\n",
       "      <td>12970655</td>\n",
       "      <td>Cálculo I</td>\n",
       "    </tr>\n",
       "  </tbody>\n",
       "</table>\n",
       "</div>"
      ],
      "text/plain": [
       "                   FollowDate  StudentId                SubjectName\n",
       "0  2015-09-12 16:00:11.000000   12970655  Disciplina Integradora II\n",
       "1  2015-09-12 16:00:11.000000   12970655       Pesquisa Operacional\n",
       "2  2016-06-07 17:07:35.000000   12970655                  Cálculo I"
      ]
     },
     "execution_count": 24,
     "metadata": {},
     "output_type": "execute_result"
    }
   ],
   "source": [
    "df_subjects.head(3)"
   ]
  },
  {
   "cell_type": "code",
   "execution_count": 25,
   "metadata": {},
   "outputs": [
    {
     "data": {
      "text/plain": [
       "Bioquímica                  4229\n",
       "Cálculo I                   4128\n",
       "Anatomia Humana             3989\n",
       "Direito Constitucional      3928\n",
       "Matemática Financeira       3418\n",
       "Física I                    3091\n",
       "Direito Penal I             2968\n",
       "Direito Constitucional I    2894\n",
       "Fisiologia Humana           2859\n",
       "Cálculo II                  2572\n",
       "Name: SubjectName, dtype: int64"
      ]
     },
     "execution_count": 25,
     "metadata": {},
     "output_type": "execute_result"
    }
   ],
   "source": [
    "# Top 10 materiais procurados\n",
    "df_subjects.SubjectName.value_counts()[:10]\n",
    "# plt.figure(figsize=(8,4))\n",
    "# df_subjects['SubjectName'].value_counts()[:10].plot(kind='pie')\n",
    "# plt.show()"
   ]
  },
  {
   "cell_type": "markdown",
   "metadata": {},
   "source": [
    "### Conclusoes gerais:"
   ]
  },
  {
   "cell_type": "markdown",
   "metadata": {},
   "source": [
    "* Em sua maioria, os usuarios sao do RJ, o curso de Direito eh o curso com fatia de representacao mais elevada e a plataforma do Facebook eh o principal canal de ligacao. \n",
    "\n",
    "* A Univ onde ha maior qde de usuarios eh a Estacio. \n",
    "\n",
    "* O material mais pesquisado corresponde a area de exatas lidera com 13209 (Cálculo I, Matemática Financeira, Física I, Cálculo II), em seguida a Area de saude, atraves de Bioquimica (primeiro lugar), Anatomia (terceiro) e Fisiologia Humana (nono) totalizando 11077. Por fim, humanas com 9790 (Dir Constitucional, Constitucional I e Penal I)"
   ]
  },
  {
   "cell_type": "markdown",
   "metadata": {},
   "source": [
    "## PERGUNTA 3)\n",
    "\n",
    "* Faça uma análise comparativa do comportamento dos usuários não Premium e dos usuários Premium. Que tipos de ações podemos direcionar para usuários não Premium fazerem com o objetivo de termos um maior número de assinantes?"
   ]
  },
  {
   "cell_type": "markdown",
   "metadata": {},
   "source": [
    "Utilizarei como estrategia a uniao da tabela students com as tabelas onde encontramos as disciplinas seguidas e principalmente arquivos visualizados."
   ]
  },
  {
   "cell_type": "code",
   "execution_count": 26,
   "metadata": {},
   "outputs": [],
   "source": [
    "df_pp = pd.read_json(p_paym)"
   ]
  },
  {
   "cell_type": "code",
   "execution_count": 27,
   "metadata": {},
   "outputs": [
    {
     "data": {
      "text/html": [
       "<div>\n",
       "<style scoped>\n",
       "    .dataframe tbody tr th:only-of-type {\n",
       "        vertical-align: middle;\n",
       "    }\n",
       "\n",
       "    .dataframe tbody tr th {\n",
       "        vertical-align: top;\n",
       "    }\n",
       "\n",
       "    .dataframe thead th {\n",
       "        text-align: right;\n",
       "    }\n",
       "</style>\n",
       "<table border=\"1\" class=\"dataframe\">\n",
       "  <thead>\n",
       "    <tr style=\"text-align: right;\">\n",
       "      <th></th>\n",
       "      <th>PaymentDate</th>\n",
       "      <th>PlanType</th>\n",
       "      <th>StudentId</th>\n",
       "    </tr>\n",
       "  </thead>\n",
       "  <tbody>\n",
       "    <tr>\n",
       "      <th>0</th>\n",
       "      <td>2017-05-26 22:25:03.000000</td>\n",
       "      <td>Anual</td>\n",
       "      <td>12970655</td>\n",
       "    </tr>\n",
       "    <tr>\n",
       "      <th>1</th>\n",
       "      <td>2018-05-26 10:05:28.000000</td>\n",
       "      <td>Anual</td>\n",
       "      <td>12970655</td>\n",
       "    </tr>\n",
       "    <tr>\n",
       "      <th>2</th>\n",
       "      <td>2016-07-21 19:57:57.717000</td>\n",
       "      <td>Mensal</td>\n",
       "      <td>12970655</td>\n",
       "    </tr>\n",
       "    <tr>\n",
       "      <th>3</th>\n",
       "      <td>2016-08-21 08:47:42.947000</td>\n",
       "      <td>Mensal</td>\n",
       "      <td>12970655</td>\n",
       "    </tr>\n",
       "    <tr>\n",
       "      <th>4</th>\n",
       "      <td>2016-09-21 08:54:06.270000</td>\n",
       "      <td>Mensal</td>\n",
       "      <td>12970655</td>\n",
       "    </tr>\n",
       "  </tbody>\n",
       "</table>\n",
       "</div>"
      ],
      "text/plain": [
       "                  PaymentDate PlanType  StudentId\n",
       "0  2017-05-26 22:25:03.000000    Anual   12970655\n",
       "1  2018-05-26 10:05:28.000000    Anual   12970655\n",
       "2  2016-07-21 19:57:57.717000   Mensal   12970655\n",
       "3  2016-08-21 08:47:42.947000   Mensal   12970655\n",
       "4  2016-09-21 08:54:06.270000   Mensal   12970655"
      ]
     },
     "execution_count": 27,
     "metadata": {},
     "output_type": "execute_result"
    }
   ],
   "source": [
    "df_pp.head()"
   ]
  },
  {
   "cell_type": "code",
   "execution_count": 28,
   "metadata": {},
   "outputs": [],
   "source": [
    "df_1 = pd.merge(df_stu, df_pp, left_on='Id', right_on='StudentId', how='left')"
   ]
  },
  {
   "cell_type": "code",
   "execution_count": 29,
   "metadata": {},
   "outputs": [
    {
     "data": {
      "text/html": [
       "<div>\n",
       "<style scoped>\n",
       "    .dataframe tbody tr th:only-of-type {\n",
       "        vertical-align: middle;\n",
       "    }\n",
       "\n",
       "    .dataframe tbody tr th {\n",
       "        vertical-align: top;\n",
       "    }\n",
       "\n",
       "    .dataframe thead th {\n",
       "        text-align: right;\n",
       "    }\n",
       "</style>\n",
       "<table border=\"1\" class=\"dataframe\">\n",
       "  <thead>\n",
       "    <tr style=\"text-align: right;\">\n",
       "      <th></th>\n",
       "      <th>City</th>\n",
       "      <th>CourseName</th>\n",
       "      <th>Id</th>\n",
       "      <th>RegisteredDate</th>\n",
       "      <th>SignupSource</th>\n",
       "      <th>State</th>\n",
       "      <th>StudentClient</th>\n",
       "      <th>UniversityName</th>\n",
       "      <th>PaymentDate</th>\n",
       "      <th>PlanType</th>\n",
       "      <th>StudentId</th>\n",
       "    </tr>\n",
       "  </thead>\n",
       "  <tbody>\n",
       "    <tr>\n",
       "      <th>0</th>\n",
       "      <td>NaN</td>\n",
       "      <td>Administração</td>\n",
       "      <td>12970655</td>\n",
       "      <td>2012-05-29 15:22:27.490000</td>\n",
       "      <td>Email</td>\n",
       "      <td>Rio de Janeiro</td>\n",
       "      <td>NaN</td>\n",
       "      <td>PUC-RIO</td>\n",
       "      <td>2017-05-26 22:25:03.000000</td>\n",
       "      <td>Anual</td>\n",
       "      <td>12970655.0</td>\n",
       "    </tr>\n",
       "    <tr>\n",
       "      <th>1</th>\n",
       "      <td>NaN</td>\n",
       "      <td>Administração</td>\n",
       "      <td>12970655</td>\n",
       "      <td>2012-05-29 15:22:27.490000</td>\n",
       "      <td>Email</td>\n",
       "      <td>Rio de Janeiro</td>\n",
       "      <td>NaN</td>\n",
       "      <td>PUC-RIO</td>\n",
       "      <td>2018-05-26 10:05:28.000000</td>\n",
       "      <td>Anual</td>\n",
       "      <td>12970655.0</td>\n",
       "    </tr>\n",
       "    <tr>\n",
       "      <th>2</th>\n",
       "      <td>NaN</td>\n",
       "      <td>Administração</td>\n",
       "      <td>12970655</td>\n",
       "      <td>2012-05-29 15:22:27.490000</td>\n",
       "      <td>Email</td>\n",
       "      <td>Rio de Janeiro</td>\n",
       "      <td>NaN</td>\n",
       "      <td>PUC-RIO</td>\n",
       "      <td>2016-07-21 19:57:57.717000</td>\n",
       "      <td>Mensal</td>\n",
       "      <td>12970655.0</td>\n",
       "    </tr>\n",
       "    <tr>\n",
       "      <th>3</th>\n",
       "      <td>NaN</td>\n",
       "      <td>Administração</td>\n",
       "      <td>12970655</td>\n",
       "      <td>2012-05-29 15:22:27.490000</td>\n",
       "      <td>Email</td>\n",
       "      <td>Rio de Janeiro</td>\n",
       "      <td>NaN</td>\n",
       "      <td>PUC-RIO</td>\n",
       "      <td>2016-08-21 08:47:42.947000</td>\n",
       "      <td>Mensal</td>\n",
       "      <td>12970655.0</td>\n",
       "    </tr>\n",
       "    <tr>\n",
       "      <th>4</th>\n",
       "      <td>NaN</td>\n",
       "      <td>Administração</td>\n",
       "      <td>12970655</td>\n",
       "      <td>2012-05-29 15:22:27.490000</td>\n",
       "      <td>Email</td>\n",
       "      <td>Rio de Janeiro</td>\n",
       "      <td>NaN</td>\n",
       "      <td>PUC-RIO</td>\n",
       "      <td>2016-09-21 08:54:06.270000</td>\n",
       "      <td>Mensal</td>\n",
       "      <td>12970655.0</td>\n",
       "    </tr>\n",
       "  </tbody>\n",
       "</table>\n",
       "</div>"
      ],
      "text/plain": [
       "  City     CourseName        Id              RegisteredDate SignupSource  \\\n",
       "0  NaN  Administração  12970655  2012-05-29 15:22:27.490000        Email   \n",
       "1  NaN  Administração  12970655  2012-05-29 15:22:27.490000        Email   \n",
       "2  NaN  Administração  12970655  2012-05-29 15:22:27.490000        Email   \n",
       "3  NaN  Administração  12970655  2012-05-29 15:22:27.490000        Email   \n",
       "4  NaN  Administração  12970655  2012-05-29 15:22:27.490000        Email   \n",
       "\n",
       "            State StudentClient UniversityName                 PaymentDate  \\\n",
       "0  Rio de Janeiro           NaN        PUC-RIO  2017-05-26 22:25:03.000000   \n",
       "1  Rio de Janeiro           NaN        PUC-RIO  2018-05-26 10:05:28.000000   \n",
       "2  Rio de Janeiro           NaN        PUC-RIO  2016-07-21 19:57:57.717000   \n",
       "3  Rio de Janeiro           NaN        PUC-RIO  2016-08-21 08:47:42.947000   \n",
       "4  Rio de Janeiro           NaN        PUC-RIO  2016-09-21 08:54:06.270000   \n",
       "\n",
       "  PlanType   StudentId  \n",
       "0    Anual  12970655.0  \n",
       "1    Anual  12970655.0  \n",
       "2   Mensal  12970655.0  \n",
       "3   Mensal  12970655.0  \n",
       "4   Mensal  12970655.0  "
      ]
     },
     "execution_count": 29,
     "metadata": {},
     "output_type": "execute_result"
    }
   ],
   "source": [
    "df_1.head()"
   ]
  },
  {
   "cell_type": "code",
   "execution_count": 30,
   "metadata": {},
   "outputs": [
    {
     "name": "stdout",
     "output_type": "stream",
     "text": [
      "{'Email', 'Google', 'Facebook'}\n"
     ]
    }
   ],
   "source": [
    "unicos = set(df_1['SignupSource'])\n",
    "print(unicos)"
   ]
  },
  {
   "cell_type": "code",
   "execution_count": 31,
   "metadata": {},
   "outputs": [
    {
     "name": "stdout",
     "output_type": "stream",
     "text": [
      "{nan, 'Anual', 'Mensal'}\n"
     ]
    }
   ],
   "source": [
    "unicos1 = set(df_1['PlanType'])\n",
    "print(unicos1)"
   ]
  },
  {
   "cell_type": "code",
   "execution_count": 32,
   "metadata": {},
   "outputs": [],
   "source": [
    "df_session = pd.read_json(sess)"
   ]
  },
  {
   "cell_type": "code",
   "execution_count": 33,
   "metadata": {},
   "outputs": [],
   "source": [
    "# df_session.info()\n",
    "\n",
    "# <class 'pandas.core.frame.DataFrame'>\n",
    "# RangeIndex: 1399062 entries, 0 to 1399061\n",
    "# Data columns (total 3 columns):\n",
    "# SessionStartTime    1399062 non-null object\n",
    "# StudentClient       1399062 non-null object\n",
    "# StudentId           1399062 non-null int64\n",
    "# dtypes: int64(1), object(2)\n",
    "# memory usage: 32.0+ MB\n"
   ]
  },
  {
   "cell_type": "code",
   "execution_count": 34,
   "metadata": {},
   "outputs": [],
   "source": [
    "df_2 = pd.merge(df_1, df_session, left_on='Id', right_on='StudentId', how='outer')"
   ]
  },
  {
   "cell_type": "code",
   "execution_count": 35,
   "metadata": {},
   "outputs": [
    {
     "data": {
      "text/html": [
       "<div>\n",
       "<style scoped>\n",
       "    .dataframe tbody tr th:only-of-type {\n",
       "        vertical-align: middle;\n",
       "    }\n",
       "\n",
       "    .dataframe tbody tr th {\n",
       "        vertical-align: top;\n",
       "    }\n",
       "\n",
       "    .dataframe thead th {\n",
       "        text-align: right;\n",
       "    }\n",
       "</style>\n",
       "<table border=\"1\" class=\"dataframe\">\n",
       "  <thead>\n",
       "    <tr style=\"text-align: right;\">\n",
       "      <th></th>\n",
       "      <th>City</th>\n",
       "      <th>CourseName</th>\n",
       "      <th>Id</th>\n",
       "      <th>RegisteredDate</th>\n",
       "      <th>SignupSource</th>\n",
       "      <th>State</th>\n",
       "      <th>StudentClient_x</th>\n",
       "      <th>UniversityName</th>\n",
       "      <th>PaymentDate</th>\n",
       "      <th>PlanType</th>\n",
       "      <th>StudentId_x</th>\n",
       "      <th>SessionStartTime</th>\n",
       "      <th>StudentClient_y</th>\n",
       "      <th>StudentId_y</th>\n",
       "    </tr>\n",
       "  </thead>\n",
       "  <tbody>\n",
       "    <tr>\n",
       "      <th>0</th>\n",
       "      <td>NaN</td>\n",
       "      <td>Administração</td>\n",
       "      <td>12970655</td>\n",
       "      <td>2012-05-29 15:22:27.490000</td>\n",
       "      <td>Email</td>\n",
       "      <td>Rio de Janeiro</td>\n",
       "      <td>NaN</td>\n",
       "      <td>PUC-RIO</td>\n",
       "      <td>2017-05-26 22:25:03.000000</td>\n",
       "      <td>Anual</td>\n",
       "      <td>12970655.0</td>\n",
       "      <td>2017-02-20 14:51:37</td>\n",
       "      <td>Website</td>\n",
       "      <td>12970655</td>\n",
       "    </tr>\n",
       "    <tr>\n",
       "      <th>1</th>\n",
       "      <td>NaN</td>\n",
       "      <td>Administração</td>\n",
       "      <td>12970655</td>\n",
       "      <td>2012-05-29 15:22:27.490000</td>\n",
       "      <td>Email</td>\n",
       "      <td>Rio de Janeiro</td>\n",
       "      <td>NaN</td>\n",
       "      <td>PUC-RIO</td>\n",
       "      <td>2017-05-26 22:25:03.000000</td>\n",
       "      <td>Anual</td>\n",
       "      <td>12970655.0</td>\n",
       "      <td>2017-02-22 14:04:34</td>\n",
       "      <td>Website</td>\n",
       "      <td>12970655</td>\n",
       "    </tr>\n",
       "    <tr>\n",
       "      <th>2</th>\n",
       "      <td>NaN</td>\n",
       "      <td>Administração</td>\n",
       "      <td>12970655</td>\n",
       "      <td>2012-05-29 15:22:27.490000</td>\n",
       "      <td>Email</td>\n",
       "      <td>Rio de Janeiro</td>\n",
       "      <td>NaN</td>\n",
       "      <td>PUC-RIO</td>\n",
       "      <td>2017-05-26 22:25:03.000000</td>\n",
       "      <td>Anual</td>\n",
       "      <td>12970655.0</td>\n",
       "      <td>2017-02-23 13:46:14</td>\n",
       "      <td>Website</td>\n",
       "      <td>12970655</td>\n",
       "    </tr>\n",
       "    <tr>\n",
       "      <th>3</th>\n",
       "      <td>NaN</td>\n",
       "      <td>Administração</td>\n",
       "      <td>12970655</td>\n",
       "      <td>2012-05-29 15:22:27.490000</td>\n",
       "      <td>Email</td>\n",
       "      <td>Rio de Janeiro</td>\n",
       "      <td>NaN</td>\n",
       "      <td>PUC-RIO</td>\n",
       "      <td>2017-05-26 22:25:03.000000</td>\n",
       "      <td>Anual</td>\n",
       "      <td>12970655.0</td>\n",
       "      <td>2017-02-23 14:52:24</td>\n",
       "      <td>Website</td>\n",
       "      <td>12970655</td>\n",
       "    </tr>\n",
       "    <tr>\n",
       "      <th>4</th>\n",
       "      <td>NaN</td>\n",
       "      <td>Administração</td>\n",
       "      <td>12970655</td>\n",
       "      <td>2012-05-29 15:22:27.490000</td>\n",
       "      <td>Email</td>\n",
       "      <td>Rio de Janeiro</td>\n",
       "      <td>NaN</td>\n",
       "      <td>PUC-RIO</td>\n",
       "      <td>2017-05-26 22:25:03.000000</td>\n",
       "      <td>Anual</td>\n",
       "      <td>12970655.0</td>\n",
       "      <td>2017-03-03 20:47:21</td>\n",
       "      <td>Website</td>\n",
       "      <td>12970655</td>\n",
       "    </tr>\n",
       "  </tbody>\n",
       "</table>\n",
       "</div>"
      ],
      "text/plain": [
       "  City     CourseName        Id              RegisteredDate SignupSource  \\\n",
       "0  NaN  Administração  12970655  2012-05-29 15:22:27.490000        Email   \n",
       "1  NaN  Administração  12970655  2012-05-29 15:22:27.490000        Email   \n",
       "2  NaN  Administração  12970655  2012-05-29 15:22:27.490000        Email   \n",
       "3  NaN  Administração  12970655  2012-05-29 15:22:27.490000        Email   \n",
       "4  NaN  Administração  12970655  2012-05-29 15:22:27.490000        Email   \n",
       "\n",
       "            State StudentClient_x UniversityName                 PaymentDate  \\\n",
       "0  Rio de Janeiro             NaN        PUC-RIO  2017-05-26 22:25:03.000000   \n",
       "1  Rio de Janeiro             NaN        PUC-RIO  2017-05-26 22:25:03.000000   \n",
       "2  Rio de Janeiro             NaN        PUC-RIO  2017-05-26 22:25:03.000000   \n",
       "3  Rio de Janeiro             NaN        PUC-RIO  2017-05-26 22:25:03.000000   \n",
       "4  Rio de Janeiro             NaN        PUC-RIO  2017-05-26 22:25:03.000000   \n",
       "\n",
       "  PlanType  StudentId_x     SessionStartTime StudentClient_y  StudentId_y  \n",
       "0    Anual   12970655.0  2017-02-20 14:51:37         Website     12970655  \n",
       "1    Anual   12970655.0  2017-02-22 14:04:34         Website     12970655  \n",
       "2    Anual   12970655.0  2017-02-23 13:46:14         Website     12970655  \n",
       "3    Anual   12970655.0  2017-02-23 14:52:24         Website     12970655  \n",
       "4    Anual   12970655.0  2017-03-03 20:47:21         Website     12970655  "
      ]
     },
     "execution_count": 35,
     "metadata": {},
     "output_type": "execute_result"
    }
   ],
   "source": [
    "df_2.head()"
   ]
  },
  {
   "cell_type": "markdown",
   "metadata": {},
   "source": [
    "Estudar os casos onde temos os grupos premium e nao premium"
   ]
  },
  {
   "cell_type": "code",
   "execution_count": null,
   "metadata": {},
   "outputs": [],
   "source": []
  },
  {
   "cell_type": "code",
   "execution_count": null,
   "metadata": {},
   "outputs": [],
   "source": []
  },
  {
   "cell_type": "markdown",
   "metadata": {},
   "source": [
    "## PERGUNTA 4)\n",
    "\n",
    "* Em Novembro de 2017 fizemos uma grande mudança no PD: o Content Restriction. Os usuários não Premium passaram a poder consumir no máximo 3 arquivos diferentes por mês. Diante dessa mudança, qual passou a ser o Lifetime Value (LTV) dos usuários Premium a partir de Novembro de 2017?"
   ]
  },
  {
   "cell_type": "markdown",
   "metadata": {},
   "source": [
    "### formula(1) LTV = (ticket médio × média de compras por cliente a cada ano) × média de tempo de relacionamento \n",
    "### average purchase value x average frequency rate x average customer lifespan).\n",
    "### https://mobiledevmemo.com/ltv-for-freemium-products/\n",
    "### primeira coisa e calcular o churn rate mensal, em seguida, assumindo 30,00 /mes e freq = 1, temos o LTV pela formula (1)\n",
    "### formula(2) churn_rate =  num clientes q cancelaram o servico durante o mes / num clientes ativos no inicio do mes"
   ]
  },
  {
   "cell_type": "code",
   "execution_count": 48,
   "metadata": {},
   "outputs": [],
   "source": [
    "df_churn = pd.read_json(p_canc)"
   ]
  },
  {
   "cell_type": "code",
   "execution_count": 49,
   "metadata": {},
   "outputs": [
    {
     "data": {
      "text/html": [
       "<div>\n",
       "<style scoped>\n",
       "    .dataframe tbody tr th:only-of-type {\n",
       "        vertical-align: middle;\n",
       "    }\n",
       "\n",
       "    .dataframe tbody tr th {\n",
       "        vertical-align: top;\n",
       "    }\n",
       "\n",
       "    .dataframe thead th {\n",
       "        text-align: right;\n",
       "    }\n",
       "</style>\n",
       "<table border=\"1\" class=\"dataframe\">\n",
       "  <thead>\n",
       "    <tr style=\"text-align: right;\">\n",
       "      <th></th>\n",
       "      <th>CancellationDate</th>\n",
       "      <th>StudentId</th>\n",
       "    </tr>\n",
       "  </thead>\n",
       "  <tbody>\n",
       "    <tr>\n",
       "      <th>0</th>\n",
       "      <td>2016-05-05 19:08:31.937000</td>\n",
       "      <td>34129668</td>\n",
       "    </tr>\n",
       "    <tr>\n",
       "      <th>1</th>\n",
       "      <td>2016-05-05 22:48:20.830000</td>\n",
       "      <td>34129668</td>\n",
       "    </tr>\n",
       "    <tr>\n",
       "      <th>2</th>\n",
       "      <td>2016-05-20 22:37:21.117000</td>\n",
       "      <td>82394932</td>\n",
       "    </tr>\n",
       "    <tr>\n",
       "      <th>3</th>\n",
       "      <td>2016-05-31 13:44:55.307000</td>\n",
       "      <td>82942835</td>\n",
       "    </tr>\n",
       "    <tr>\n",
       "      <th>4</th>\n",
       "      <td>2016-06-01 14:22:19.467000</td>\n",
       "      <td>85382416</td>\n",
       "    </tr>\n",
       "  </tbody>\n",
       "</table>\n",
       "</div>"
      ],
      "text/plain": [
       "             CancellationDate  StudentId\n",
       "0  2016-05-05 19:08:31.937000   34129668\n",
       "1  2016-05-05 22:48:20.830000   34129668\n",
       "2  2016-05-20 22:37:21.117000   82394932\n",
       "3  2016-05-31 13:44:55.307000   82942835\n",
       "4  2016-06-01 14:22:19.467000   85382416"
      ]
     },
     "execution_count": 49,
     "metadata": {},
     "output_type": "execute_result"
    }
   ],
   "source": [
    "df_churn.head()"
   ]
  },
  {
   "cell_type": "code",
   "execution_count": 50,
   "metadata": {},
   "outputs": [],
   "source": [
    "# df_churn.dtypes\n",
    "# CancellationDate    object\n",
    "# StudentId            int64\n",
    "#print(df_churn['CancellationDate'].astype('timedelta64[h]').min(), df_churn['CancelationDate'].astype('timedelta64[h]').max())\n",
    "# import datetime\n",
    "\n",
    "# date_time_str = 'Jun 28 2018  7:40AM' - '%b %d %Y %I:%M%p'\n",
    "# date_time_obj = datetime.datetime.strptime(date_time_str, '%b %d %Y %I:%M%p')"
   ]
  },
  {
   "cell_type": "code",
   "execution_count": 51,
   "metadata": {},
   "outputs": [],
   "source": [
    "#df_churn['CancellationDate_new'] = pd.to_datetime(df_churn['CancellationDate'])"
   ]
  },
  {
   "cell_type": "code",
   "execution_count": 53,
   "metadata": {},
   "outputs": [],
   "source": [
    "#new_dates, new_times = zip(*[(d.date(), d.time()) for d in df_churn['CancellationDate_new']])\n",
    "#df_churn = df_churn.assign(new_date=new_dates, new_time=new_times)"
   ]
  },
  {
   "cell_type": "code",
   "execution_count": 54,
   "metadata": {},
   "outputs": [],
   "source": [
    "#df_churn.head()"
   ]
  },
  {
   "cell_type": "code",
   "execution_count": 55,
   "metadata": {},
   "outputs": [],
   "source": [
    "#df_churn.dtypes"
   ]
  },
  {
   "cell_type": "code",
   "execution_count": 56,
   "metadata": {},
   "outputs": [],
   "source": [
    "#df_churn_1 = df_churn.groupby(by=[df_churn['CancellationDate_new'].index.month, df_churn['CancellationDate_new'].index.year])"
   ]
  },
  {
   "cell_type": "code",
   "execution_count": 60,
   "metadata": {},
   "outputs": [],
   "source": [
    "#df_churn['new_date'].min()\n",
    "#df_churn['new_date'].max()"
   ]
  },
  {
   "cell_type": "markdown",
   "metadata": {},
   "source": [
    "## PERGUNTA 5)\n",
    "\n",
    "* Entre os usuários que \"Churnaram\" solicitando ativamente o cancelamento do Plano Premium, o que está fortemente correlacionado com o cancelamento? (Ex: uso das features, tempo de inatividade, etc)"
   ]
  },
  {
   "cell_type": "markdown",
   "metadata": {},
   "source": [
    "#### fazer o heatmap com as correlacoes na tabela resultante da uniao entre students, premium, session"
   ]
  },
  {
   "cell_type": "markdown",
   "metadata": {},
   "source": [
    "## PERGUNTA 6)\n",
    "* Quais são as 5 maiores universidades no Passei Direto?"
   ]
  },
  {
   "cell_type": "markdown",
   "metadata": {},
   "source": [
    "### 5 Maiores Univ:\n",
    "* ESTÁCIO - 8919\n",
    "* UNIP - 4392\n",
    "* UNOPAR -1784\n",
    "* UNINTER - 1780\n",
    "* ESTÁCIO EAD - 1446"
   ]
  },
  {
   "cell_type": "markdown",
   "metadata": {},
   "source": [
    "## PERGUNTA 7)\n",
    "\n",
    "* Considerando o seu conhecimento da plataforma do Passei Direto e a análise dos dados disponibilizados nesse teste, que oportunidades você vê para melhorarmos a experiência dos nossos usuários? Ofereça insights explorando o como e o porquê."
   ]
  },
  {
   "cell_type": "markdown",
   "metadata": {},
   "source": [
    "### i) Analise de texo para verificacao do \"sentimento\" do usuario em relacao ao conteudo visualizado. \n",
    "### ii) Aplicacao de modelo de aprendizado de maquina para classificacao binaria (regressao logistica) para previsao de churn  assinantes."
   ]
  }
 ],
 "metadata": {
  "kernelspec": {
   "display_name": "Python 3",
   "language": "python",
   "name": "python3"
  },
  "language_info": {
   "codemirror_mode": {
    "name": "ipython",
    "version": 3
   },
   "file_extension": ".py",
   "mimetype": "text/x-python",
   "name": "python",
   "nbconvert_exporter": "python",
   "pygments_lexer": "ipython3",
   "version": "3.6.5"
  }
 },
 "nbformat": 4,
 "nbformat_minor": 2
}
